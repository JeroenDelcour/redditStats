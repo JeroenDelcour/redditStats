{
 "cells": [
  {
   "cell_type": "code",
   "execution_count": 1,
   "metadata": {
    "collapsed": true
   },
   "outputs": [],
   "source": [
    "import json\n",
    "from __future__ import division"
   ]
  },
  {
   "cell_type": "markdown",
   "metadata": {},
   "source": [
    "196,531,736 Unique Posts contained in the set"
   ]
  },
  {
   "cell_type": "code",
   "execution_count": 2,
   "metadata": {
    "collapsed": false
   },
   "outputs": [
    {
     "name": "stdout",
     "output_type": "stream",
     "text": [
      "1000000\n",
      "2000000\n",
      "3000000\n",
      "4000000\n",
      "5000000\n",
      "6000000\n",
      "7000000\n",
      "8000000\n",
      "9000000\n",
      "10000000\n",
      "11000000\n",
      "12000000\n",
      "13000000\n",
      "14000000\n",
      "15000000\n",
      "16000000\n",
      "17000000\n",
      "18000000\n",
      "19000000\n",
      "20000000\n",
      "20000001 lines read.\n",
      "Done!\n",
      "Wall time: 14min 38s\n"
     ]
    }
   ],
   "source": [
    "%%time\n",
    "gildedPosts = []\n",
    "top_gilded = 0\n",
    "top_post = None\n",
    "with open(\"C:/Users/jeroe/Documents/torrents/RS_full_corpus.json\") as f:\n",
    "    i = 0\n",
    "    for line in f:\n",
    "        i += 1\n",
    "        try:\n",
    "            line_json = json.loads(line)\n",
    "            if line_json['gilded'] >= 1:\n",
    "                gildedPosts.append(line_json)\n",
    "                if gilded > top_gilded:\n",
    "                    top_post = line\n",
    "                    top_gilded = gilded\n",
    "        except:\n",
    "            continue\n",
    "        if i%1e6==0:\n",
    "            print i\n",
    "        if i>20e6:\n",
    "            break\n",
    "    print str(i)+' lines read.'\n",
    "    print 'Done!'"
   ]
  },
  {
   "cell_type": "code",
   "execution_count": 3,
   "metadata": {
    "collapsed": false
   },
   "outputs": [
    {
     "data": {
      "text/plain": [
       "29"
      ]
     },
     "execution_count": 3,
     "metadata": {},
     "output_type": "execute_result"
    }
   ],
   "source": [
    "len(gildedPosts)"
   ]
  },
  {
   "cell_type": "code",
   "execution_count": 21,
   "metadata": {
    "collapsed": false
   },
   "outputs": [
    {
     "data": {
      "text/plain": [
       "<Container object of 27 artists>"
      ]
     },
     "execution_count": 21,
     "metadata": {},
     "output_type": "execute_result"
    },
    {
     "data": {
      "image/png": "[encoded data removed]",
      "text/plain": [
       "<matplotlib.figure.Figure at 0x6ac2070>"
      ]
     },
     "metadata": {},
     "output_type": "display_data"
    }
   ],
   "source": [
    "hist = {}\n",
    "for p in gildedPosts:\n",
    "    try:\n",
    "        hist[p['score']] += 1\n",
    "    except KeyError:\n",
    "        hist[p['score']] = 1\n",
    "fig, ax = plt.subplots()\n",
    "ax.bar(range(len(hist)), hist.values())"
   ]
  },
  {
   "cell_type": "code",
   "execution_count": 22,
   "metadata": {
    "collapsed": false
   },
   "outputs": [
    {
     "name": "stdout",
     "output_type": "stream",
     "text": [
      "/r/reddit.com/comments/74xlq/cool_google_search/\n",
      "/r/lolcats/comments/80ww8/lolyomomma_joke/\n",
      "/r/Winnipeg/comments/8a0zh/ninja_bombs_winnipeg_square_main_attraction_at_050/\n",
      "/r/pics/comments/8aqjh/awww_this_is_just_too_sad_pic/\n",
      "/r/Winnipeg/comments/8iflc/homeless_man_saves_teen_from_drowning/\n",
      "/r/pics/comments/92dd8/test_post_please_ignore/\n",
      "/r/WTF/comments/9br1q/if_you_rob_a_bank_you_may_get_a_few_thousand/\n",
      "/r/atheism/comments/9fg1b/atheism_vs_theism_may_seem_like_a_battle_of_wits/\n",
      "/r/Bacon/comments/an596/exciting_new_way_of_cooking_bacon_with_pictures/\n",
      "/r/hiphopheads/comments/awt41/welcome_to_rhiphopheads/\n",
      "/r/funny/comments/axcht/diet_coke_is_unhealthy/\n",
      "/r/programming/comments/b0a2z/a_reddit_clone_in_two_evenings_and_666_lines_of/\n",
      "/r/gonewild/comments/bipv5/a_tame_look_at_my_top_for_you/\n",
      "/r/gaming/comments/ceuyh/step_by_step_moddingguide_deus_ex_i_spilled_my/\n",
      "/r/politics/comments/cjbl7/white_nationalists_are_trying_to_invade_reddit/\n",
      "/r/gaming/comments/d1osj/final_fantasy_guitar_man_insane_dont_know_why_hes/\n",
      "/r/funny/comments/d5k8s/some_of_my_coworkers_had_a_conversation_on_the/\n",
      "/r/announcements/comments/d73ow/reddit_101_or_click_this_if_youre_new_around_here/\n",
      "/r/books/comments/d9agh/animorphsrar_154_megamorphs_14_andalite_ellimist/\n",
      "/r/Learnmusic/comments/ddrba/effective_practice_practicing_versus_playing/\n",
      "/r/Drugs/comments/e1zxu/10_months_ago_dmt_changed_me_i_cant_change_back/\n",
      "/r/hiphopheads/comments/exi6z/complexs_25_most_anticipated_albums_of_2011/\n",
      "/r/lgbt/comments/fanzg/french_gay_marriage_ban_upheld_by_constitutional/\n",
      "/r/keto/comments/fkpc9/why_we_plateau_and_what_to_do_about_it/\n",
      "/r/WeAreTheMusicMakers/comments/g3r7x/i_released_a_free_online_course_that_teaches_a/\n",
      "/r/Hypothyroidism/comments/gtdad/self_treating_hypothyroidism/\n",
      "/r/Homebrewing/comments/hfzuh/how_to_properly_carbonate_your_homebrew_in_kegs/\n",
      "/r/Minecraft/comments/i24wd/how_to_not_die_in_minecraft/\n",
      "/r/geek/comments/i3sy3/my_dad_made_the_batmobile_run_on_cng_info_in/\n"
     ]
    }
   ],
   "source": [
    "for p in gildedPosts:\n",
    "    print p['permalink']"
   ]
  },
  {
   "cell_type": "code",
   "execution_count": 8,
   "metadata": {
    "collapsed": false
   },
   "outputs": [],
   "source": [
    "with open('reddit_corpus_gilded_posts.json', 'w') as f:\n",
    "    json.dump(gildedPosts, f)"
   ]
  },
  {
   "cell_type": "code",
   "execution_count": 12,
   "metadata": {
    "collapsed": false
   },
   "outputs": [],
   "source": [
    "with open('reddit_corpus_top_post.json', 'w') as f:\n",
    "    json.dump(json.loads(top_post), f)"
   ]
  },
  {
   "cell_type": "code",
   "execution_count": 7,
   "metadata": {
    "collapsed": false
   },
   "outputs": [],
   "source": [
    "import matplotlib\n",
    "import matplotlib.pyplot as plt\n",
    "%matplotlib inline\n",
    "\n",
    "def hide_spines():\n",
    "    \"\"\"Hides the top and rightmost axis spines from view for all active\n",
    "    figures and their respective axes.\"\"\"\n",
    "\n",
    "    # Retrieve a list of all current figures.\n",
    "    figures = [x for x in matplotlib._pylab_helpers.Gcf.get_all_fig_managers()]\n",
    "    for figure in figures:\n",
    "        # Get all Axis instances related to the figure.\n",
    "        for ax in figure.canvas.figure.get_axes():\n",
    "            # Disable spines.\n",
    "            ax.spines['right'].set_color('none')\n",
    "            ax.spines['top'].set_color('none')\n",
    "            ax.spines['left'].set_color('none')\n",
    "            ax.spines['bottom'].set_color('none')\n",
    "            # Disable ticks.\n",
    "            ax.xaxis.set_ticks_position('bottom')\n",
    "            ax.yaxis.set_ticks_position('left')"
   ]
  },
  {
   "cell_type": "code",
   "execution_count": 87,
   "metadata": {
    "collapsed": false
   },
   "outputs": [
    {
     "data": {
      "image/png": "[encoded data removed]",
      "text/plain": [
       "<matplotlib.figure.Figure at 0x8738890>"
      ]
     },
     "metadata": {},
     "output_type": "display_data"
    }
   ],
   "source": [
    "plt.figure(figsize=(14,8))\n",
    "plt.title('Upvotes for Reddit submissions from 2006 to August 2015')\n",
    "ax = plt.subplot(111)\n",
    "ax.plot(hist.keys(), hist.values(), '.', c='black')\n",
    "ax.set_ylabel('Frequency')\n",
    "ax.set_xlabel('Upvotes')\n",
    "ax.set_yscale('log')\n",
    "ax.set_xscale('log')\n",
    "\n",
    "a = plt.axes([.6, .5, .4, .4])\n",
    "plt.bar(hist.keys()[:26], hist.values()[:26], color='black', align='center')\n",
    "plt.ylabel('Frequency')\n",
    "plt.xlabel('Upvotes')\n",
    "plt.xlim([-1, 26])\n",
    "plt.xticks(range(26))\n",
    "\n",
    "plt.tight_layout()\n",
    "hide_spines()\n",
    "plt.savefig('plot.svg')\n",
    "plt.savefig('plot.png')\n",
    "plt.show()"
   ]
  },
  {
   "cell_type": "code",
   "execution_count": 78,
   "metadata": {
    "collapsed": false
   },
   "outputs": [
    {
     "name": "stdout",
     "output_type": "stream",
     "text": [
      "35.0629813803% of Reddit submissions have 1 upvote\n"
     ]
    }
   ],
   "source": [
    "a = hist[1] / sum(hist.values())\n",
    "print str(a*100)+'% of Reddit submissions have 1 upvote'"
   ]
  }
 ],
 "metadata": {
  "kernelspec": {
   "display_name": "Python 2",
   "language": "python",
   "name": "python2"
  },
  "language_info": {
   "codemirror_mode": {
    "name": "ipython",
    "version": 2
   },
   "file_extension": ".py",
   "mimetype": "text/x-python",
   "name": "python",
   "nbconvert_exporter": "python",
   "pygments_lexer": "ipython2",
   "version": "2.7.11"
  }
 },
 "nbformat": 4,
 "nbformat_minor": 0
}
